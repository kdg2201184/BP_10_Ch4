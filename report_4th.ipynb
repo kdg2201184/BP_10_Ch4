{
  "nbformat": 4,
  "nbformat_minor": 0,
  "metadata": {
    "colab": {
      "provenance": [],
      "authorship_tag": "ABX9TyNhNovOm8+Dh1OInWdA4B9a",
      "include_colab_link": true
    },
    "kernelspec": {
      "name": "python3",
      "display_name": "Python 3"
    },
    "language_info": {
      "name": "python"
    }
  },
  "cells": [
    {
      "cell_type": "markdown",
      "metadata": {
        "id": "view-in-github",
        "colab_type": "text"
      },
      "source": [
        "<a href=\"https://colab.research.google.com/github/kdg2201184/BP_10_Ch4/blob/main/report_4th.ipynb\" target=\"_parent\"><img src=\"https://colab.research.google.com/assets/colab-badge.svg\" alt=\"Open In Colab\"/></a>"
      ]
    },
    {
      "cell_type": "code",
      "execution_count": 10,
      "metadata": {
        "colab": {
          "base_uri": "https://localhost:8080/"
        },
        "id": "E1ucUrx_O-sN",
        "outputId": "af2ec4b8-38fb-4d73-ed24-f364dc3f0a4c"
      },
      "outputs": [
        {
          "output_type": "stream",
          "name": "stdout",
          "text": [
            "정수를 입력하시오: 12\n",
            "나는 12개의 사과를 먹었다.\n"
          ]
        }
      ],
      "source": [
        "x = input(\"정수를 입력하시오: \")\n",
        "\n",
        "print('나는 ' + x + '개의 사과를 먹었다.')"
      ]
    },
    {
      "cell_type": "code",
      "source": [
        "print('apple' + 'grape')\n",
        "print('apple'*3)"
      ],
      "metadata": {
        "colab": {
          "base_uri": "https://localhost:8080/"
        },
        "id": "wuDQVUzFQpIH",
        "outputId": "ca994957-70e8-4f31-fac5-22cc459e30ec"
      },
      "execution_count": 3,
      "outputs": [
        {
          "output_type": "stream",
          "name": "stdout",
          "text": [
            "applegrape\n",
            "appleappleapple\n"
          ]
        }
      ]
    },
    {
      "cell_type": "code",
      "source": [
        "s = input(\"문자열을 입력하시오: \")\n",
        "\n",
        "print(s[0:2] + s[-2:])"
      ],
      "metadata": {
        "colab": {
          "base_uri": "https://localhost:8080/"
        },
        "id": "cdNZXunhSJFL",
        "outputId": "80d2b457-d807-4f9c-f3c3-9399d4cbe58e"
      },
      "execution_count": 11,
      "outputs": [
        {
          "output_type": "stream",
          "name": "stdout",
          "text": [
            "문자열을 입력하시오: python\n",
            "pyon\n"
          ]
        }
      ]
    },
    {
      "cell_type": "code",
      "source": [
        "s = input(\"문자열을 입력하시오: \")\n",
        "\n",
        "print(s +  \"하는 중\")"
      ],
      "metadata": {
        "colab": {
          "base_uri": "https://localhost:8080/"
        },
        "id": "RtgSkuyhSu8p",
        "outputId": "b82f1952-2bfe-4336-9408-7c359abd5110"
      },
      "execution_count": 12,
      "outputs": [
        {
          "output_type": "stream",
          "name": "stdout",
          "text": [
            "문자열을 입력하시오: 청소\n",
            "청소하는 중\n"
          ]
        }
      ]
    },
    {
      "cell_type": "code",
      "source": [
        "x = input(\"기호를 입력하시오: \")\n",
        "s = input(\"중간에 삽입할 문자열을 입력하시오: \")\n",
        "\n",
        "print(x[0:1] + s + x[-1:])"
      ],
      "metadata": {
        "colab": {
          "base_uri": "https://localhost:8080/"
        },
        "id": "BROyHPikS9YV",
        "outputId": "e772b16d-410d-4f70-a54a-29a6bca8a564"
      },
      "execution_count": 17,
      "outputs": [
        {
          "output_type": "stream",
          "name": "stdout",
          "text": [
            "기호를 입력하시오: []\n",
            "중간에 삽입할 문자열을 입력하시오: python\n",
            "[python]\n"
          ]
        }
      ]
    },
    {
      "cell_type": "code",
      "source": [
        "s = [1, 2, 3, 4]\n",
        "\n",
        "print(\"리스트 =\", s)\n",
        "\n",
        "sum = s[0] + s[1] + s[2] + s[3]\n",
        "\n",
        "print(\"리스트 숫자들의 합 =\", sum)"
      ],
      "metadata": {
        "colab": {
          "base_uri": "https://localhost:8080/"
        },
        "id": "WAh4BXFxTii3",
        "outputId": "4564b538-ba44-4d6b-e662-736c2dc0091c"
      },
      "execution_count": 16,
      "outputs": [
        {
          "output_type": "stream",
          "name": "stdout",
          "text": [
            "리스트 = [1, 2, 3, 4]\n",
            "리스트 숫자들의 합 = 10\n"
          ]
        }
      ]
    },
    {
      "cell_type": "code",
      "source": [
        "import turtle\n",
        "t = turtle.Turtle()\n",
        "t.shape(\"turtle\")\n",
        "\n",
        "color_list = [\"yellow\", \"red\", \"blue\"]\n",
        "\n",
        "t.fillcolor(color_list[0])  #채우기 색상을 설정한다.\n",
        "t.begin_fill()              #채우기를 시작한다.\n",
        "t.circle(50)                #채워진 원이 그려진다.\n",
        "t.end_fill()                #채우기를 끝낸다.\n",
        "t.up()\n",
        "t.goto(100, 0)\n",
        "t.down()\n",
        "\n",
        "t.fillcolor(color_list[1])\n",
        "t.begin_fill()\n",
        "t.circle(50)\n",
        "t.end_fill()\n",
        "t.up()\n",
        "t.goto(200, 0)\n",
        "t.down()\n",
        "\n",
        "t.fillcolor(color_list[2])\n",
        "t.begin_fill()\n",
        "t.circle(50)\n",
        "t.end_fill()"
      ],
      "metadata": {
        "id": "eKIc9eWRUQqL"
      },
      "execution_count": null,
      "outputs": []
    },
    {
      "cell_type": "code",
      "source": [
        "import turtle\n",
        "t = turtle.Turtle()\n",
        "t.shape(\"turtle\")\n",
        "\n",
        "x = []\n",
        "y = []\n",
        "\n",
        "x1 = int(input(\"x1 = \"))\n",
        "y1 = int(input(\"y1 = \"))\n",
        "x2 = int(input(\"x2 = \"))\n",
        "y2 = int(input(\"y2 = \"))\n",
        "x3 = int(input(\"x3 = \"))\n",
        "y3 = int(input(\"y3 = \"))\n",
        "\n",
        "x.append(x1)\n",
        "x.append(x2)\n",
        "x.append(x3)\n",
        "y.append(y1)\n",
        "y.append(y2)\n",
        "y.append(y3)\n",
        "\n",
        "t.goto(x[0], y[0])\n",
        "t.goto(x[1], y[1])\n",
        "t.goto(x[2], y[2])\n"
      ],
      "metadata": {
        "id": "g_2I3-YHX515"
      },
      "execution_count": null,
      "outputs": []
    }
  ]
}